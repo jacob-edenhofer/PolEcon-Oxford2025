{
 "cells": [
  {
   "cell_type": "code",
   "execution_count": null,
   "id": "b7aefdce",
   "metadata": {},
   "outputs": [],
   "source": [
    "import numpy as np\n",
    "import pandas as pd\n",
    "\n",
    "# Set seed for reproducibility\n",
    "np.random.seed(2024)"
   ]
  },
  {
   "cell_type": "code",
   "execution_count": null,
   "id": "ad8a1691",
   "metadata": {},
   "outputs": [],
   "source": [
    "\n",
    "# Parameters\n",
    "N = 1000\n",
    "type_probs = [0.5, 0.5]  # 50% good, 50% bad\n",
    "mus = {'good': 1.0, 'bad': -1.0}\n",
    "sigmas = [0.5, 1.0, 2.0]\n",
    "cutoff = 0\n",
    "\n",
    "# Store results\n",
    "results = []\n",
    "\n",
    "for sigma in sigmas:\n",
    "    # Assign types\n",
    "    is_good = np.random.rand(N) < type_probs[0]\n",
    "    \n",
    "    # Generate z based on type\n",
    "    z = np.where(is_good,\n",
    "                 np.random.normal(mus['good'], sigma, N),\n",
    "                 np.random.normal(mus['bad'], sigma, N))\n",
    "    \n",
    "    # Apply decision rule\n",
    "    reelected = z > cutoff\n",
    "    \n",
    "    # Compute metrics\n",
    "    reelection_rate = np.mean(reelected)\n",
    "    true_positive_rate = np.sum(is_good & reelected) / np.sum(is_good)\n",
    "    false_positive_rate = np.sum(~is_good & reelected) / np.sum(~is_good)\n",
    "    \n",
    "    results.append({\n",
    "        'sigma': sigma,\n",
    "        'reelection_rate': reelection_rate,\n",
    "        'true_positives': true_positive_rate,\n",
    "        'false_positives': false_positive_rate\n",
    "    })\n",
    "\n",
    "# Convert to DataFrame\n",
    "df_voter_noise = pd.DataFrame(results)\n",
    "print(df_voter_noise)\n"
   ]
  }
 ],
 "metadata": {
  "kernelspec": {
   "display_name": "Python 3",
   "language": "python",
   "name": "python3"
  },
  "language_info": {
   "codemirror_mode": {
    "name": "ipython",
    "version": 3
   },
   "file_extension": ".py",
   "mimetype": "text/x-python",
   "name": "python",
   "nbconvert_exporter": "python",
   "pygments_lexer": "ipython3",
   "version": "3.13.1"
  }
 },
 "nbformat": 4,
 "nbformat_minor": 5
}
