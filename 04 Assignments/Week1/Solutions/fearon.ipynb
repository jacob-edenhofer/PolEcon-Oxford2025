{
 "cells": [
  {
   "cell_type": "code",
   "execution_count": 1,
   "id": "9b424d52",
   "metadata": {},
   "outputs": [
    {
     "name": "stdout",
     "output_type": "stream",
     "text": [
      "=== Case: 30% bad types, cutoff = -0.5 ===\n",
      "Reelection rate: 0.66\n",
      "Share of bad types among reelected: 0.26\n",
      "Voter welfare (U = -E[x^2]): -0.066\n"
     ]
    }
   ],
   "source": [
    "import numpy as np\n",
    "import matplotlib.pyplot as plt\n",
    "\n",
    "# --- Parameters ---\n",
    "n_politicians = 1000\n",
    "sigma = 1.0\n",
    "x_good = 0.0\n",
    "x_bad = 0.5\n",
    "cutoff_k = -0.5\n",
    "\n",
    "# --- Choose case: low or high share of bad types ---\n",
    "share_bad = 0.3  # Try 0.7 later for comparison\n",
    "\n",
    "# --- Step 1: Generate types ---\n",
    "types = np.random.choice(['good', 'bad'], size=n_politicians, p=[1 - share_bad, share_bad])\n",
    "\n",
    "# --- Step 2: Assign effort (x) based on type ---\n",
    "x_vals = np.where(types == 'good', x_good, x_bad)\n",
    "\n",
    "# --- Step 3: Simulate signal z = -x^2 + ε ---\n",
    "eps = np.random.normal(0, sigma, size=n_politicians)\n",
    "z_vals = -x_vals**2 + eps\n",
    "\n",
    "# --- Step 4: Apply reelection rule ---\n",
    "reelected = z_vals > cutoff_k\n",
    "n_reelected = np.sum(reelected)\n",
    "\n",
    "# --- Step 5: Analyse reelected politicians ---\n",
    "reelected_types = types[reelected]\n",
    "reelected_x = x_vals[reelected]\n",
    "\n",
    "# Compute key statistics\n",
    "total_reelected = n_reelected / n_politicians\n",
    "bad_among_reelected = np.mean(reelected_types == 'bad')\n",
    "voter_utility = -np.mean(reelected_x**2)\n",
    "\n",
    "# --- Print results ---\n",
    "print(f\"=== Case: {int(share_bad*100)}% bad types, cutoff = {cutoff_k} ===\")\n",
    "print(f\"Reelection rate: {total_reelected:.2f}\")\n",
    "print(f\"Share of bad types among reelected: {bad_among_reelected:.2f}\")\n",
    "print(f\"Voter welfare (U = -E[x^2]): {voter_utility:.3f}\")"
   ]
  }
 ],
 "metadata": {
  "kernelspec": {
   "display_name": "Python 3",
   "language": "python",
   "name": "python3"
  },
  "language_info": {
   "codemirror_mode": {
    "name": "ipython",
    "version": 3
   },
   "file_extension": ".py",
   "mimetype": "text/x-python",
   "name": "python",
   "nbconvert_exporter": "python",
   "pygments_lexer": "ipython3",
   "version": "3.13.1"
  }
 },
 "nbformat": 4,
 "nbformat_minor": 5
}
