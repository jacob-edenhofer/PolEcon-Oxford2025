{
 "cells": [
  {
   "cell_type": "code",
   "execution_count": 10,
   "id": "9b424d52",
   "metadata": {},
   "outputs": [],
   "source": [
    "import numpy as np\n",
    "import matplotlib.pyplot as plt\n",
    "import pandas as pd"
   ]
  },
  {
   "cell_type": "code",
   "execution_count": 11,
   "id": "120ed9ca",
   "metadata": {},
   "outputs": [
    {
     "name": "stdout",
     "output_type": "stream",
     "text": [
      "=== Single Case: 30% bad types, σ = 1.0, cutoff = -0.5 ===\n",
      "Reelection rate: 0.69\n",
      "Share of bad types among reelected: 0.30\n",
      "Voter welfare (U = -E[x^2]): -0.075\n",
      "\n",
      "   sigma  reelection_rate  bad_among_reelected  voter_welfare\n",
      "0    0.5            0.792             0.262626      -0.065657\n",
      "1    1.0            0.683             0.265007      -0.066252\n",
      "2    2.0            0.570             0.287719      -0.071930\n"
     ]
    }
   ],
   "source": [
    "# --------------------------\n",
    "# Single-case simulation\n",
    "# --------------------------\n",
    "def simulate_single_case(n_politicians=1000, sigma=1.0, share_bad=0.3, x_bad=0.5, cutoff_k=-0.5):\n",
    "    x_good = 0.0\n",
    "\n",
    "    types = np.random.choice(['good', 'bad'], size=n_politicians, p=[1 - share_bad, share_bad])\n",
    "    x_vals = np.where(types == 'good', x_good, x_bad)\n",
    "    eps = np.random.normal(0, sigma, size=n_politicians)\n",
    "    z_vals = -x_vals**2 + eps\n",
    "    reelected = z_vals > cutoff_k\n",
    "\n",
    "    reelected_types = types[reelected]\n",
    "    reelected_x = x_vals[reelected]\n",
    "\n",
    "    total_reelected = np.mean(reelected)\n",
    "    bad_among_reelected = np.mean(reelected_types == 'bad') if len(reelected_types) > 0 else 0\n",
    "    voter_utility = -np.mean(reelected_x**2) if len(reelected_x) > 0 else 0\n",
    "\n",
    "    print(f\"=== Single Case: {int(share_bad*100)}% bad types, σ = {sigma}, cutoff = {cutoff_k} ===\")\n",
    "    print(f\"Reelection rate: {total_reelected:.2f}\")\n",
    "    print(f\"Share of bad types among reelected: {bad_among_reelected:.2f}\")\n",
    "    print(f\"Voter welfare (U = -E[x^2]): {voter_utility:.3f}\")\n",
    "    print()\n",
    "\n",
    "# Run single-case example\n",
    "simulate_single_case(sigma=1.0, share_bad=0.3)\n",
    "\n",
    "# --------------------------\n",
    "# Multi-sigma analysis\n",
    "# --------------------------\n",
    "def simulate_noise_effects(n_politicians=1000, sigma_values=[0.5, 1.0, 2.0], share_bad=0.3, x_bad=0.5, cutoff_k=-0.5):\n",
    "    x_good = 0.0\n",
    "    results = []\n",
    "\n",
    "    for sigma in sigma_values:\n",
    "        types = np.random.choice(['good', 'bad'], size=n_politicians, p=[1 - share_bad, share_bad])\n",
    "        x_vals = np.where(types == 'good', x_good, x_bad)\n",
    "        eps = np.random.normal(0, sigma, size=n_politicians)\n",
    "        z_vals = -x_vals**2 + eps\n",
    "        reelected = z_vals > cutoff_k\n",
    "        reelected_types = types[reelected]\n",
    "        reelected_x = x_vals[reelected]\n",
    "\n",
    "        total_reelected = np.mean(reelected)\n",
    "        bad_among_reelected = np.mean(reelected_types == 'bad') if len(reelected_types) > 0 else 0\n",
    "        voter_utility = -np.mean(reelected_x**2) if len(reelected_x) > 0 else 0\n",
    "\n",
    "        results.append({\n",
    "            'sigma': sigma,\n",
    "            'reelection_rate': total_reelected,\n",
    "            'bad_among_reelected': bad_among_reelected,\n",
    "            'voter_welfare': voter_utility\n",
    "        })\n",
    "\n",
    "    return pd.DataFrame(results)\n",
    "\n",
    "# Run and print multi-sigma analysis\n",
    "df_sigma = simulate_noise_effects()\n",
    "print(df_sigma)"
   ]
  }
 ],
 "metadata": {
  "kernelspec": {
   "display_name": "Python 3",
   "language": "python",
   "name": "python3"
  },
  "language_info": {
   "codemirror_mode": {
    "name": "ipython",
    "version": 3
   },
   "file_extension": ".py",
   "mimetype": "text/x-python",
   "name": "python",
   "nbconvert_exporter": "python",
   "pygments_lexer": "ipython3",
   "version": "3.13.1"
  }
 },
 "nbformat": 4,
 "nbformat_minor": 5
}
